{
 "cells": [
  {
   "cell_type": "markdown",
   "metadata": {},
   "source": [
    "Initializing Libraries and Global Variables"
   ]
  },
  {
   "cell_type": "code",
   "execution_count": 21,
   "metadata": {},
   "outputs": [],
   "source": [
    "import pickle\n",
    "import pandas as pd\n",
    "import psycopg2"
   ]
  },
  {
   "cell_type": "code",
   "execution_count": 22,
   "metadata": {},
   "outputs": [],
   "source": [
    "path = r'D:\\\\Projects\\\\ipums\\\\garrard_test\\\\'\n",
    "cbkname = r'ky_1870_cbk.pickle'\n",
    "prefix = 'cn70_'\n",
    "table_name = 'census_1870'\n",
    "cbkfile = path + cbkname"
   ]
  },
  {
   "cell_type": "markdown",
   "metadata": {},
   "source": [
    "Pickle functions"
   ]
  },
  {
   "cell_type": "code",
   "execution_count": 23,
   "metadata": {},
   "outputs": [],
   "source": [
    "def load_pickle(filename, objectname):\n",
    "        with open(path+filename, \"rb\") as infile:\n",
    "            objectname = pickle.load(infile)\n",
    "        print('Loaded from:', filename)\n",
    "\n",
    "def save_pickle(filename, objectname):\n",
    "    with open(path+filename, \"wb\") as outfile:\n",
    "        pickle.dump(objectname, outfile)\n",
    "    print('Saved to:',filename)"
   ]
  },
  {
   "cell_type": "markdown",
   "metadata": {},
   "source": [
    "Loading the codebook and creating the column list"
   ]
  },
  {
   "cell_type": "code",
   "execution_count": 24,
   "metadata": {},
   "outputs": [
    {
     "name": "stdout",
     "output_type": "stream",
     "text": [
      "column_list:\n",
      " ['cn70_year char(4)', 'cn70_serial char(8)', 'cn70_numprec char(2)', 'cn70_subsamp char(2)', 'cn70_numperhh char(4)', 'cn70_hhtype char(1)', 'cn70_region char(2)', 'cn70_stateicp char(2)', 'cn70_statefip char(2)', 'cn70_countyicp char(4)']\n"
     ]
    }
   ],
   "source": [
    "\n",
    "cbk = pd.read_pickle(cbkfile)\n",
    "cbk.columns\n",
    "x = cbk['length'].astype('str')\n",
    "cbk['column_name'] = prefix+cbk['variable'].str.lower() + ' char('+x+')'\n",
    "column_list = cbk['column_name'].tolist()\n",
    "print('column_list:\\n',column_list[0:10])"
   ]
  },
  {
   "cell_type": "markdown",
   "metadata": {},
   "source": [
    "Database Functions (psycopg2)"
   ]
  },
  {
   "cell_type": "code",
   "execution_count": 25,
   "metadata": {},
   "outputs": [],
   "source": [
    "def open_database(database):\n",
    "    conn = psycopg2.connect(dbname=database, user='postgres', password = '3701', host='localhost', port='5432')\n",
    "    return conn\n",
    "\n",
    "def create_cursor():\n",
    "    cursor = conn.cursor()\n",
    "    return cursor\n",
    "\n",
    "def set_census_schema():\n",
    "    cur.execute(\"SET SCHEMA 'census'\")\n",
    "\n",
    "def create_table(tablename, columns):\n",
    "    print(len(column_list))\n",
    "    columns_text = '(' + ', '.join(columns) + ');'\n",
    "    cur.execute('DROP TABLE IF EXISTS ' + tablename + ';')\n",
    "    cur.execute('CREATE TABLE ' + tablename + ' ' + columns_text)\n",
    "\n",
    "def get_column_counts(tablename, columns):\n",
    "    qry_cc = 'select count(*) from information_schema.columns where tablename =' + table_name + ';'\n",
    "    col_ct_sql = cur.execute(qry_cc)\n",
    "    col_ct_list = len(columns)+1\n",
    "    print('columns in table:',col_ct_sql,'\\n','columns in list:',col_ct_list)\n",
    "    \n",
    "def close_database():\n",
    "    conn.commit() #insert rollback logic\n",
    "    conn.close()\n",
    "      "
   ]
  },
  {
   "cell_type": "code",
   "execution_count": 26,
   "metadata": {},
   "outputs": [
    {
     "name": "stdout",
     "output_type": "stream",
     "text": [
      "(id serial PRIMARY KEY, cn70_year char(4), cn70_serial char(8), cn70_numprec char(2), cn70_subsamp char(2), cn70_numperhh char(4), cn70_hhtype char(1), cn70_region char(2), cn70_stateicp char(2), cn70_statefip char(2), cn70_countyicp char(4), cn70_countynhg char(7), cn70_metro char(1), cn70_metarea char(3), cn70_metaread char(4), cn70_city char(4), cn70_citypop char(7), cn70_sizepl char(2), cn70_urban char(1), cn70_urbpop char(7), cn70_mcdpop char(7), cn70_cntry char(3), cn70_gq char(1), cn70_gqtype char(1), cn70_gqtyped char(3), cn70_gqfunds char(2), cn70_farm char(1), cn70_nfams char(2), cn70_ncouples char(1), cn70_nmothers char(1), cn70_nfathers char(1), cn70_split char(1), cn70_splithid char(8), cn70_splitnum char(4), cn70_histidhead char(36), cn70_pernum char(4), cn70_famunit char(2), cn70_famsize char(2), cn70_momloc char(2), cn70_stepmom char(1), cn70_momrule_hist char(1), cn70_poploc char(2), cn70_steppop char(1), cn70_poprule_hist char(1), cn70_sploc char(2), cn70_sprule_hist char(1), cn70_nchild char(1), cn70_nchlt5 char(1), cn70_nsibs char(1), cn70_eldch char(2), cn70_yngch char(2), cn70_relate char(2), cn70_related char(4), cn70_imprel char(2), cn70_sex char(1), cn70_age char(3), cn70_agemonth char(2), cn70_birthmo char(2), cn70_birthyr char(4), cn70_marrinyr char(1), cn70_race char(1), cn70_raced char(3), cn70_hispan char(1), cn70_hispand char(3), cn70_bpl char(3), cn70_bpld char(5), cn70_nativity char(1), cn70_citizen char(1), cn70_hisprule char(1), cn70_school char(1), cn70_lit char(1), cn70_labforce char(1), cn70_occ char(4), cn70_occ1950 char(3), cn70_ind1950 char(3), cn70_realprop char(8), cn70_persprop char(8), cn70_versionhist char(2), cn70_histid char(36), cn70_sursim char(2), cn70_hik char(21), cn70_link1850 char(1), cn70_link1860 char(1), cn70_link char(1), cn70_link1880 char(1), cn70_link1900 char(1), cn70_link1910 char(1), cn70_link1920 char(1), cn70_versionhik char(7));\n",
      "DROP TABLE IF EXISTS census_1870;\n",
      "CREATE TABLE census_1870 (id serial PRIMARY KEY, cn70_year char(4), cn70_serial char(8), cn70_numprec char(2), cn70_subsamp char(2), cn70_numperhh char(4), cn70_hhtype char(1), cn70_region char(2), cn70_stateicp char(2), cn70_statefip char(2), cn70_countyicp char(4), cn70_countynhg char(7), cn70_metro char(1), cn70_metarea char(3), cn70_metaread char(4), cn70_city char(4), cn70_citypop char(7), cn70_sizepl char(2), cn70_urban char(1), cn70_urbpop char(7), cn70_mcdpop char(7), cn70_cntry char(3), cn70_gq char(1), cn70_gqtype char(1), cn70_gqtyped char(3), cn70_gqfunds char(2), cn70_farm char(1), cn70_nfams char(2), cn70_ncouples char(1), cn70_nmothers char(1), cn70_nfathers char(1), cn70_split char(1), cn70_splithid char(8), cn70_splitnum char(4), cn70_histidhead char(36), cn70_pernum char(4), cn70_famunit char(2), cn70_famsize char(2), cn70_momloc char(2), cn70_stepmom char(1), cn70_momrule_hist char(1), cn70_poploc char(2), cn70_steppop char(1), cn70_poprule_hist char(1), cn70_sploc char(2), cn70_sprule_hist char(1), cn70_nchild char(1), cn70_nchlt5 char(1), cn70_nsibs char(1), cn70_eldch char(2), cn70_yngch char(2), cn70_relate char(2), cn70_related char(4), cn70_imprel char(2), cn70_sex char(1), cn70_age char(3), cn70_agemonth char(2), cn70_birthmo char(2), cn70_birthyr char(4), cn70_marrinyr char(1), cn70_race char(1), cn70_raced char(3), cn70_hispan char(1), cn70_hispand char(3), cn70_bpl char(3), cn70_bpld char(5), cn70_nativity char(1), cn70_citizen char(1), cn70_hisprule char(1), cn70_school char(1), cn70_lit char(1), cn70_labforce char(1), cn70_occ char(4), cn70_occ1950 char(3), cn70_ind1950 char(3), cn70_realprop char(8), cn70_persprop char(8), cn70_versionhist char(2), cn70_histid char(36), cn70_sursim char(2), cn70_hik char(21), cn70_link1850 char(1), cn70_link1860 char(1), cn70_link char(1), cn70_link1880 char(1), cn70_link1900 char(1), cn70_link1910 char(1), cn70_link1920 char(1), cn70_versionhik char(7));\n",
      "SELECT * FROM census_1870;\n"
     ]
    }
   ],
   "source": [
    "#testing sql strings\n",
    "columns = column_list\n",
    "columns_text = '(' + 'id serial PRIMARY KEY, ' + ', '.join(columns) + ');'\n",
    "print(columns_text)\n",
    "print ('DROP TABLE IF EXISTS ' + table_name + ';')\n",
    "print('CREATE TABLE ' + table_name + ' ' + columns_text)\n",
    "print('SELECT * FROM ' + table_name + ';')"
   ]
  },
  {
   "cell_type": "markdown",
   "metadata": {},
   "source": [
    "Open the Database"
   ]
  },
  {
   "cell_type": "code",
   "execution_count": 27,
   "metadata": {},
   "outputs": [],
   "source": [
    "conn = open_database('test')\n",
    "cur = create_cursor()\n",
    "set_census_schema()"
   ]
  },
  {
   "cell_type": "markdown",
   "metadata": {},
   "source": [
    "Create the Census table in postgresSQL"
   ]
  },
  {
   "cell_type": "code",
   "execution_count": 28,
   "metadata": {},
   "outputs": [
    {
     "name": "stdout",
     "output_type": "stream",
     "text": [
      "88\n"
     ]
    }
   ],
   "source": [
    "create_table(table_name,column_list)\n"
   ]
  },
  {
   "cell_type": "markdown",
   "metadata": {},
   "source": [
    "Commit and Close the database"
   ]
  },
  {
   "cell_type": "code",
   "execution_count": 29,
   "metadata": {},
   "outputs": [],
   "source": [
    "close_database()"
   ]
  }
 ],
 "metadata": {
  "kernelspec": {
   "display_name": "database",
   "language": "python",
   "name": "python3"
  },
  "language_info": {
   "codemirror_mode": {
    "name": "ipython",
    "version": 3
   },
   "file_extension": ".py",
   "mimetype": "text/x-python",
   "name": "python",
   "nbconvert_exporter": "python",
   "pygments_lexer": "ipython3",
   "version": "3.12.3"
  }
 },
 "nbformat": 4,
 "nbformat_minor": 2
}
