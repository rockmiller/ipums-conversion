{
 "cells": [
  {
   "cell_type": "code",
   "execution_count": 100,
   "metadata": {},
   "outputs": [],
   "source": [
    "#Importing libraries\n",
    "\n",
    "import re\n",
    "import pickle\n",
    "import pandas as pd\n",
    "import psycopg2"
   ]
  },
  {
   "cell_type": "code",
   "execution_count": 101,
   "metadata": {},
   "outputs": [],
   "source": [
    "#Setting up the paths and filenames\n",
    "path = r'D:\\\\Projects\\\\ipums\\\\garrard_test\\\\'\n",
    "dataname = r'ky_garrard_1870_88v_test_usa_00006.dat'\n",
    "cbkname = r'ky_1870_cbk.pickle'\n",
    "sliceobjs = r'ky_1870_slice_objects.pickle'\n",
    "\n",
    "slice_objs = path + sliceobjs\n",
    "cbkfile = path + cbkname\n",
    "datafile = path + dataname"
   ]
  },
  {
   "cell_type": "code",
   "execution_count": 102,
   "metadata": {},
   "outputs": [],
   "source": [
    "#Key functions\n",
    "def load_pickle(filename, objectname):\n",
    "        with open(path+filename, \"rb\") as infile:\n",
    "            objectname = pickle.load(infile)\n",
    "        print('Loaded from:', filename)\n",
    "\n",
    "def save_pickle(filename, objectname):\n",
    "    with open(path+filename, \"wb\") as outfile:\n",
    "        pickle.dump(objectname, outfile)\n",
    "    print('Saved to:',filename)\n"
   ]
  },
  {
   "cell_type": "code",
   "execution_count": 105,
   "metadata": {},
   "outputs": [
    {
     "name": "stdout",
     "output_type": "stream",
     "text": [
      "column_list\n",
      " ['cen_year char(4)', 'cen_serial char(8)', 'cen_numprec char(2)', 'cen_subsamp char(2)', 'cen_numperhh char(4)', 'cen_hhtype char(1)', 'cen_region char(2)', 'cen_stateicp char(2)', 'cen_statefip char(2)', 'cen_countyicp char(4)']\n",
      "slice_objs\n",
      " [slice(0, 4, None), slice(4, 12, None), slice(12, 14, None), slice(14, 16, None), slice(16, 20, None), slice(20, 21, None), slice(21, 23, None), slice(23, 25, None), slice(25, 27, None), slice(27, 31, None)]\n"
     ]
    }
   ],
   "source": [
    "#loading the codebook CSV and making the sql table column list:\n",
    "\n",
    "cbk = pd.read_pickle(cbkfile)\n",
    "cbk.columns\n",
    "x = cbk['length'].astype('str')\n",
    "cbk['column_name'] = 'cen_'+cbk['variable'].str.lower() + ' char('+x+')'\n",
    "column_list = cbk['column_name'].tolist()\n",
    "slice_objs = cbk['slice_obj'].tolist()\n",
    "print('column_list\\n',column_list[0:10])\n",
    "print('slice_objs\\n',sliceobjs[0:10])"
   ]
  },
  {
   "cell_type": "markdown",
   "metadata": {},
   "source": [
    "Loading the slice objects list  \n",
    "with open(path+'slice_objs.pickle', \"rb\") as infile:  \n",
    "    slice_objs = pickle.load(infile)  \n",
    "print('Loaded slice_objs.pickle')  \n",
    "print(slice_objs)  "
   ]
  },
  {
   "cell_type": "markdown",
   "metadata": {},
   "source": [
    "Loading the slice objects list\n",
    "with open(path+\"slice_objs.pickle\", \"rb\") as infile:\n",
    "    slice_objs = pickle.load(infile)\n",
    "print(type(slice_objs))\n",
    "print(type(slice_objs[0]))\n",
    "print(slice_objs)"
   ]
  },
  {
   "cell_type": "markdown",
   "metadata": {},
   "source": [
    "#Read and slice one line\n",
    "with open(datafile) as f:\n",
    "    line = f.readline()\n",
    "    limit = len(line)\n",
    "    data = []\n",
    "    for i in slice_objs:\n",
    "        len_slice = len(line[i])\n",
    "        begin = limit\n",
    "        limit = limit - len_slice\n",
    "        if limit <= 0: break\n",
    "        #print(begin, len_slice, limit,line[i])\n",
    "        data.append(line[i])\n",
    "    print('data list:',len(data), 'slices:',len(slice_objs))\n",
    "    print(data)"
   ]
  },
  {
   "cell_type": "code",
   "execution_count": 110,
   "metadata": {},
   "outputs": [
    {
     "name": "stdout",
     "output_type": "stream",
     "text": [
      "['1870', '02095398', '06', '50', '0006', '1', '32', '51', '21', '0810', '2100810', '1', '000', '0000', '0000', '0000000', '01', '1', '0000000', '0001597', '840', '1', '0', '000', '00', '2', '01', '1', '1', '1', '0', '00073260', '0006', 'A9AEFCA0-B1B4-48F5-AF1E-88D9FF8B6460', '0001', '01', '06', '00', '0', '0', '00', '0', '0', '02', '1', '4', '0', '0', '26', '18', '01', '0101', '01', '1', '050', '99', '00', '1820', '1', '1', '100', '0', '000', '021', '02100', '1', '3', '0', '1', '1', '2', '0005', '100', '105', '00000400', '00000245', '03', 'A9AEFCA0-B1B4-48F5-AF1E-88D9FF8B6460', '01', 'qkNIx5kHEM6Up-GCglGJH', '1', '1', '1', '0', '0', '0', '0', '3.0-1.1']\n",
      "['1870', '02095398', '06', '50', '0006', '1', '32', '51', '21', '0810', '2100810', '1', '000', '0000', '0000', '0000000', '01', '1', '0000000', '0001597', '840', '1', '0', '000', '00', '2', '01', '1', '1', '1', '0', '00073260', '0006', 'A9AEFCA0-B1B4-48F5-AF1E-88D9FF8B6460', '0001', '01', '06', '00', '0', '0', '00', '0', '0', '02', '1', '4', '0', '0', '26', '18', '01', '0101', '01', '1', '050', '99', '00', '1820', '1', '1', '100', '0', '000', '021', '02100', '1', '3', '0', '1', '1', '2', '0005', '100', '105', '00000400', '00000245', '03', 'A9AEFCA0-B1B4-48F5-AF1E-88D9FF8B6460', '01', 'qkNIx5kHEM6Up-GCglGJH', '1', '1', '1', '0', '0', '0', '0', '3.0-1.1']\n",
      "['1870', '02095398', '06', '50', '0006', '1', '32', '51', '21', '0810', '2100810', '1', '000', '0000', '0000', '0000000', '01', '1', '0000000', '0001597', '840', '1', '0', '000', '00', '2', '01', '1', '1', '1', '0', '00073260', '0006', 'A9AEFCA0-B1B4-48F5-AF1E-88D9FF8B6460', '0001', '01', '06', '00', '0', '0', '00', '0', '0', '02', '1', '4', '0', '0', '26', '18', '01', '0101', '01', '1', '050', '99', '00', '1820', '1', '1', '100', '0', '000', '021', '02100', '1', '3', '0', '1', '1', '2', '0005', '100', '105', '00000400', '00000245', '03', 'A9AEFCA0-B1B4-48F5-AF1E-88D9FF8B6460', '01', 'qkNIx5kHEM6Up-GCglGJH', '1', '1', '1', '0', '0', '0', '0', '3.0-1.1']\n"
     ]
    }
   ],
   "source": [
    "#define read / slice function\n",
    "def read_data(datafile, slice_list,recno):\n",
    "    with open(datafile) as f:\n",
    "        line = f.readline()\n",
    "        limit = len(line)\n",
    "        data = []\n",
    "        for i in slice_list:\n",
    "            len_slice = len(line[i])\n",
    "            begin = limit\n",
    "            limit = limit - len_slice\n",
    "            if limit <= 0: break\n",
    "            data.append(line[i])\n",
    "        print(data)\n"
   ]
  }
 ],
 "metadata": {
  "kernelspec": {
   "display_name": "database",
   "language": "python",
   "name": "python3"
  },
  "language_info": {
   "codemirror_mode": {
    "name": "ipython",
    "version": 3
   },
   "file_extension": ".py",
   "mimetype": "text/x-python",
   "name": "python",
   "nbconvert_exporter": "python",
   "pygments_lexer": "ipython3",
   "version": "3.12.3"
  }
 },
 "nbformat": 4,
 "nbformat_minor": 2
}
