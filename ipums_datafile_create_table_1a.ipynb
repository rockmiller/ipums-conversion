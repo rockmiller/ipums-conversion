{
 "cells": [
  {
   "cell_type": "markdown",
   "metadata": {},
   "source": [
    "Initializing Libraries and Global Variables"
   ]
  },
  {
   "cell_type": "code",
   "execution_count": null,
   "metadata": {},
   "outputs": [],
   "source": [
    "import pickle\n",
    "import pandas as pd\n",
    "import psycopg2"
   ]
  },
  {
   "cell_type": "code",
   "execution_count": 12,
   "metadata": {},
   "outputs": [],
   "source": [
    "path = r'D:\\\\Projects\\\\ipums\\\\garrard_test\\\\'\n",
    "cbkname = r'ky_1870_cbk.pickle'\n",
    "prefix = 'cn70_'\n",
    "cbkfile = path + cbkname"
   ]
  },
  {
   "cell_type": "markdown",
   "metadata": {},
   "source": [
    "Pickle functions"
   ]
  },
  {
   "cell_type": "code",
   "execution_count": 13,
   "metadata": {},
   "outputs": [],
   "source": [
    "def load_pickle(filename, objectname):\n",
    "        with open(path+filename, \"rb\") as infile:\n",
    "            objectname = pickle.load(infile)\n",
    "        print('Loaded from:', filename)\n",
    "\n",
    "def save_pickle(filename, objectname):\n",
    "    with open(path+filename, \"wb\") as outfile:\n",
    "        pickle.dump(objectname, outfile)\n",
    "    print('Saved to:',filename)"
   ]
  },
  {
   "cell_type": "markdown",
   "metadata": {},
   "source": [
    "Loading the codebook and creating the column list"
   ]
  },
  {
   "cell_type": "code",
   "execution_count": 14,
   "metadata": {},
   "outputs": [
    {
     "name": "stdout",
     "output_type": "stream",
     "text": [
      "column_list:\n",
      " ['cn70_year char(4)', 'cn70_serial char(8)', 'cn70_numprec char(2)', 'cn70_subsamp char(2)', 'cn70_numperhh char(4)', 'cn70_hhtype char(1)', 'cn70_region char(2)', 'cn70_stateicp char(2)', 'cn70_statefip char(2)', 'cn70_countyicp char(4)']\n"
     ]
    }
   ],
   "source": [
    "\n",
    "cbk = pd.read_pickle(cbkfile)\n",
    "cbk.columns\n",
    "x = cbk['length'].astype('str')\n",
    "cbk['column_name'] = prefix+cbk['variable'].str.lower() + ' char('+x+')'\n",
    "column_list = cbk['column_name'].tolist()\n",
    "print('column_list:\\n',column_list[0:10])"
   ]
  },
  {
   "cell_type": "markdown",
   "metadata": {},
   "source": [
    "Database Functions (psycopg2)"
   ]
  },
  {
   "cell_type": "code",
   "execution_count": 15,
   "metadata": {},
   "outputs": [],
   "source": [
    "def open_database(database):\n",
    "    conn = psycopg2.connect(dbname=database, user='postgres', password = '3701', host='localhost', port='5432')\n",
    "    return conn\n",
    "\n",
    "def create_cursor():\n",
    "    cursor = conn.cursor()\n",
    "    return cursor\n",
    "\n",
    "def set_census_schema():\n",
    "    cur.execute(\"SET SCHEMA 'census'\")\n",
    "\n",
    "def create_table(tablename, column_list):\n",
    "    columns_text = '(' + 'id serial PRIMARY KEY, ' + ' '.join(column_list) + ');'\n",
    "    print(columns)\n",
    "    cur.execute('DROP TABLE IF EXISTS ' + tablename + ';')\n",
    "    cur.execute('CREATE TABLE ' + tablename + ' ' + columns_text)\n",
    "    cur.execute('SELECT * FROM ' + tablename + ';') #to confirm table is created with correct column names\n",
    "\n",
    "def get_column_count(tablename, columns):\n",
    "    qry_cc = '''\n",
    "    select count(*) from information_schema.columns\n",
    "    where table_name='<table_name>’;\n",
    "    '''\n",
    "    col_ct_sql = cur.execute(qry_cc)\n",
    "    col_ct_list = len(columns)+1\n",
    "    print('columns in table:',col_ct_sql,'\\n','columns in list:',col_ct_list)\n",
    "    \n",
    "def close_database():\n",
    "    conn.commit() #insert rollback logic\n",
    "    conn.close()\n",
    "      "
   ]
  },
  {
   "cell_type": "markdown",
   "metadata": {},
   "source": [
    "Open the Database"
   ]
  },
  {
   "cell_type": "code",
   "execution_count": 16,
   "metadata": {},
   "outputs": [],
   "source": [
    "conn = open_database('test')\n",
    "cur = create_cursor()\n",
    "set_census_schema()"
   ]
  },
  {
   "cell_type": "markdown",
   "metadata": {},
   "source": [
    "Create the Census table in postgresSQL"
   ]
  },
  {
   "cell_type": "code",
   "execution_count": 17,
   "metadata": {},
   "outputs": [],
   "source": [
    "#table_name = 'census_1870'\n",
    "#create_table(table_name,col_list)\n",
    "#get_column_counts('table_name,col_list)\n"
   ]
  }
 ],
 "metadata": {
  "kernelspec": {
   "display_name": "database",
   "language": "python",
   "name": "python3"
  },
  "language_info": {
   "codemirror_mode": {
    "name": "ipython",
    "version": 3
   },
   "file_extension": ".py",
   "mimetype": "text/x-python",
   "name": "python",
   "nbconvert_exporter": "python",
   "pygments_lexer": "ipython3",
   "version": "3.12.3"
  }
 },
 "nbformat": 4,
 "nbformat_minor": 2
}
