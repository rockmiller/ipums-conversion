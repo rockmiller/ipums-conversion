{
 "cells": [
  {
   "cell_type": "markdown",
   "metadata": {},
   "source": [
    "### Codebook Processing\n",
    "\n",
    "#### Pull the codebook text file into a Pandas dataframe:  \n",
    "    cbk = pd.read_table(path+filename, sep='\\\\s+', lineterminator = '\\n', header=None)  \n",
    "    cbk.columns = ['variable','basis','range','length']  \n",
    "      \n",
    "#### Process the range field into start/end indexes and slice objects  \n",
    "    a = cbk['range'].str.replace('-',',').str.split(',').tolist()  \n",
    "    b = [[int(i) for i in j] for j in a]  \n",
    "    c = []  \n",
    "    d = []  \n",
    "    sl = []  \n",
    "    for i in b:  \n",
    "        i[0] = i[0]-1  \n",
    "        c.append(i)  \n",
    "    print(c)  \n",
    "    for i in c:  \n",
    "        if len(i) == 1: i.append(i[0]+1)  \n",
    "        s = slice(i[0],i[1])    \n",
    "        sl.append(s)  \n",
    "    print(sl)  \n",
    "    print(len(cbk), len(c),len(d), len(sl))   \n",
    "  \n",
    "#### Iterate through the list of slice objects and apply to fixed-width text (resulting in a list of text pieces which are data items))\n",
    "    tx = 'ABCDEFGHIJKLMNOPQRSTUVWXYZABCDEFGHIJKLMNOPQRSTUVWXYZABCDEFGHIJKLMNOPQRSTUVWXYZABCDEFGHIJKLMNOPQRSTUVWXYZABCDEFGHIJKLMNOPQRSTUVWXYZ'  \n",
    "    limit = len(tx)  \n",
    "    fields = []  \n",
    "    for i in sl:  \n",
    "        len_slice = len(tx[i])  \n",
    "        begin = limit  \n",
    "        limit = limit - len_slice  \n",
    "        if limit <= 0: break  \n",
    "        print(begin, len_slice, limit, tx[i])  \n",
    "        fields.append(tx[i])  \n",
    "    print(fields)  \n",
    "  \n",
    "#### Compile and save Pandas dataframe\n",
    "#### Pickle list of slice objects for use in datafile reading"
   ]
  },
  {
   "cell_type": "markdown",
   "metadata": {},
   "source": [
    "Initialize Libraries and Global Variables"
   ]
  },
  {
   "cell_type": "code",
   "execution_count": 2,
   "metadata": {},
   "outputs": [],
   "source": [
    "import re\n",
    "import pandas as pd\n",
    "import pickle\n",
    "\n",
    "path = r'D:\\\\Projects\\\\ipums\\\\garrard_test\\\\'\n",
    "filename = r'ky_garrard_1870_field_lengths.txt'\n",
    "cbkname = r'ky_1870_cbk.csv'\n",
    "cbkpickle = r'ky_1870_cbk.pickle'\n",
    "sliceobjs = r'ky_1870_slice_objects.pickle'\n",
    "\n",
    "csvfile = path + cbkname\n",
    "cbkpickle = path + cbkpickle\n",
    "slicepickle = path + sliceobjs"
   ]
  },
  {
   "cell_type": "markdown",
   "metadata": {},
   "source": [
    "Read the codebook text file"
   ]
  },
  {
   "cell_type": "code",
   "execution_count": 3,
   "metadata": {},
   "outputs": [
    {
     "name": "stdout",
     "output_type": "stream",
     "text": [
      "<class 'pandas.core.frame.DataFrame'>\n",
      "RangeIndex: 88 entries, 0 to 87\n",
      "Data columns (total 4 columns):\n",
      " #   Column    Non-Null Count  Dtype \n",
      "---  ------    --------------  ----- \n",
      " 0   variable  88 non-null     object\n",
      " 1   basis     88 non-null     object\n",
      " 2   range     88 non-null     object\n",
      " 3   length    88 non-null     int64 \n",
      "dtypes: int64(1), object(3)\n",
      "memory usage: 2.9+ KB\n"
     ]
    }
   ],
   "source": [
    "cbk = pd.read_table(path+filename, sep='\\\\s+', lineterminator = '\\n', header=None)\n",
    "cbk.columns = ['variable','basis','range','length']\n",
    "cbk.info()"
   ]
  },
  {
   "cell_type": "markdown",
   "metadata": {},
   "source": [
    "Process Codebook Range column into Slice Objects"
   ]
  },
  {
   "cell_type": "code",
   "execution_count": 4,
   "metadata": {},
   "outputs": [
    {
     "name": "stdout",
     "output_type": "stream",
     "text": [
      "[[0, 4], [4, 12], [12, 14], [14, 16], [16, 20], [20], [21, 23], [23, 25], [25, 27], [27, 31], [31, 38], [38], [39, 42], [42, 46], [46, 50], [50, 57], [57, 59], [59], [60, 67], [67, 74], [74, 77], [77], [78], [79, 82], [82, 84], [84], [85, 87], [87], [88], [89], [90], [91, 99], [99, 103], [103, 139], [139, 143], [143, 145], [145, 147], [147, 149], [149], [150], [151, 153], [153], [154], [155, 157], [157], [158], [159], [160], [161, 163], [163, 165], [165, 167], [167, 171], [171, 173], [173], [174, 177], [177, 179], [179, 181], [181, 185], [185], [186], [187, 190], [190], [191, 194], [194, 197], [197, 202], [202], [203], [204], [205], [206], [207], [208, 212], [212, 215], [215, 218], [218, 226], [226, 234], [234, 236], [236, 272], [272, 274], [274, 295], [295], [296], [297], [298], [299], [300], [301], [302, 309]]\n",
      "[slice(0, 4, None), slice(4, 12, None), slice(12, 14, None), slice(14, 16, None), slice(16, 20, None), slice(20, 21, None), slice(21, 23, None), slice(23, 25, None), slice(25, 27, None), slice(27, 31, None), slice(31, 38, None), slice(38, 39, None), slice(39, 42, None), slice(42, 46, None), slice(46, 50, None), slice(50, 57, None), slice(57, 59, None), slice(59, 60, None), slice(60, 67, None), slice(67, 74, None), slice(74, 77, None), slice(77, 78, None), slice(78, 79, None), slice(79, 82, None), slice(82, 84, None), slice(84, 85, None), slice(85, 87, None), slice(87, 88, None), slice(88, 89, None), slice(89, 90, None), slice(90, 91, None), slice(91, 99, None), slice(99, 103, None), slice(103, 139, None), slice(139, 143, None), slice(143, 145, None), slice(145, 147, None), slice(147, 149, None), slice(149, 150, None), slice(150, 151, None), slice(151, 153, None), slice(153, 154, None), slice(154, 155, None), slice(155, 157, None), slice(157, 158, None), slice(158, 159, None), slice(159, 160, None), slice(160, 161, None), slice(161, 163, None), slice(163, 165, None), slice(165, 167, None), slice(167, 171, None), slice(171, 173, None), slice(173, 174, None), slice(174, 177, None), slice(177, 179, None), slice(179, 181, None), slice(181, 185, None), slice(185, 186, None), slice(186, 187, None), slice(187, 190, None), slice(190, 191, None), slice(191, 194, None), slice(194, 197, None), slice(197, 202, None), slice(202, 203, None), slice(203, 204, None), slice(204, 205, None), slice(205, 206, None), slice(206, 207, None), slice(207, 208, None), slice(208, 212, None), slice(212, 215, None), slice(215, 218, None), slice(218, 226, None), slice(226, 234, None), slice(234, 236, None), slice(236, 272, None), slice(272, 274, None), slice(274, 295, None), slice(295, 296, None), slice(296, 297, None), slice(297, 298, None), slice(298, 299, None), slice(299, 300, None), slice(300, 301, None), slice(301, 302, None), slice(302, 309, None)]\n",
      "88 88 88\n"
     ]
    }
   ],
   "source": [
    "#Range processing (to list of slices)\n",
    "a = cbk['range'].str.replace('-',',').str.split(',').tolist()\n",
    "b = [[int(i) for i in j] for j in a]\n",
    "c = []\n",
    "d = []\n",
    "sl = []\n",
    "for i in b:\n",
    "    i[0] = i[0]-1\n",
    "    c.append(i)\n",
    "print(c)\n",
    "for i in c:\n",
    "    if len(i) == 1: i.append(i[0]+1)\n",
    "    s = slice(i[0],i[1])  \n",
    "    sl.append(s)\n",
    "print(sl)\n",
    "print(len(cbk), len(c),len(sl))"
   ]
  },
  {
   "cell_type": "code",
   "execution_count": 5,
   "metadata": {},
   "outputs": [
    {
     "name": "stdout",
     "output_type": "stream",
     "text": [
      "26 4 22 ABCD\n",
      "22 8 14 EFGHIJKL\n",
      "14 2 12 MN\n",
      "12 2 10 OP\n",
      "10 4 6 QRST\n",
      "6 1 5 U\n",
      "5 2 3 VW\n",
      "3 2 1 XY\n",
      "['ABCD', 'EFGHIJKL', 'MN', 'OP', 'QRST', 'U', 'VW', 'XY']\n"
     ]
    }
   ],
   "source": [
    "tx = 'ABCDEFGHIJKLMNOPQRSTUVWXYZ'\n",
    "limit = len(tx)\n",
    "fields = []\n",
    "for i in sl:\n",
    "    len_slice = len(tx[i])\n",
    "    begin = limit\n",
    "    limit = limit - len_slice\n",
    "    if limit <= 0: break\n",
    "    print(begin, len_slice, limit, tx[i])\n",
    "    fields.append(tx[i])\n",
    "print(fields)"
   ]
  },
  {
   "cell_type": "markdown",
   "metadata": {},
   "source": [
    "Finalize and save the codebook (dataframe)"
   ]
  },
  {
   "cell_type": "code",
   "execution_count": 10,
   "metadata": {},
   "outputs": [
    {
     "name": "stdout",
     "output_type": "stream",
     "text": [
      "   variable basis  range  length  start_idx  end_idx            slice_obj\n",
      "20    CNTRY     H  75-77       3         74       77  slice(74, 77, None)\n",
      "21       GQ     H     78       1         77       78  slice(77, 78, None)\n",
      "22   GQTYPE     H     79       1         78       79  slice(78, 79, None)\n",
      "23  GQTYPED     H  80-82       3         79       82  slice(79, 82, None)\n"
     ]
    }
   ],
   "source": [
    "dfx = pd.DataFrame(c)\n",
    "dfx.columns = ['start_idx','end_idx']\n",
    "dfz = pd.DataFrame(sl)\n",
    "dfz.columns = ['slice_obj']\n",
    "dfy = pd.concat([cbk,dfx[['start_idx','end_idx']],dfz[['slice_obj']]], axis=1)\n",
    "print(dfy[20:24])\n",
    "dfy.to_pickle(cbkpickle)"
   ]
  },
  {
   "cell_type": "code",
   "execution_count": 11,
   "metadata": {},
   "outputs": [
    {
     "name": "stdout",
     "output_type": "stream",
     "text": [
      "column slice_obj is  <class 'slice'> \n",
      "\n",
      "   variable basis  range  length  start_idx  end_idx            slice_obj\n",
      "20    CNTRY     H  75-77       3         74       77  slice(74, 77, None)\n",
      "21       GQ     H     78       1         77       78  slice(77, 78, None)\n",
      "22   GQTYPE     H     79       1         78       79  slice(78, 79, None)\n",
      "23  GQTYPED     H  80-82       3         79       82  slice(79, 82, None)\n"
     ]
    }
   ],
   "source": [
    "cbk2 = pd.read_pickle(cbkpickle)\n",
    "a = cbk2['slice_obj'].tolist()\n",
    "print('column slice_obj is ',type(a[0]),'\\n')\n",
    "print(cbk2[20:24])"
   ]
  }
 ],
 "metadata": {
  "kernelspec": {
   "display_name": "geotools",
   "language": "python",
   "name": "python3"
  },
  "language_info": {
   "codemirror_mode": {
    "name": "ipython",
    "version": 3
   },
   "file_extension": ".py",
   "mimetype": "text/x-python",
   "name": "python",
   "nbconvert_exporter": "python",
   "pygments_lexer": "ipython3",
   "version": "3.12.3"
  }
 },
 "nbformat": 4,
 "nbformat_minor": 2
}
